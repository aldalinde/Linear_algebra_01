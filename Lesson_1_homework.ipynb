{
 "cells": [
  {
   "cell_type": "markdown",
   "metadata": {
    "colab_type": "text",
    "id": "zz7SDkPIkVlM"
   },
   "source": [
    "# Урок 1"
   ]
  },
  {
   "cell_type": "markdown",
   "metadata": {
    "colab_type": "text",
    "id": "p_3vqG5-kVlP"
   },
   "source": [
    "# Линейное пространство. Основные понятия. Часть 1"
   ]
  },
  {
   "cell_type": "markdown",
   "metadata": {},
   "source": [
    "## Практическое задание"
   ]
  },
  {
   "cell_type": "markdown",
   "metadata": {
    "colab_type": "text",
    "id": "SmdURZ_OkVqQ"
   },
   "source": [
    "__1.__ Исследовать на линейную зависимость:\n",
    "$$f_{1}(x)=e^{x}, f_{2}(x)=1, f_{3}(x)=x+1, f_{4}(x)=x-e^{x}.$$"
   ]
  },
  {
   "cell_type": "markdown",
   "metadata": {},
   "source": [
    "- выражаем один из векторов через комбинацию других => линейная зависимость векторов\n",
    "\n",
    "$$f_{3}(x)= x+1 = (x - e^{x}) + e^{x} +1 = f_{4}(x) + f_{1}(x) + f_{2}(x) $$"
   ]
  },
  {
   "cell_type": "markdown",
   "metadata": {
    "colab_type": "text",
    "id": "cECfCSANkVqR"
   },
   "source": [
    "__2.__ Исследовать на линейную зависимость:\n",
    "$$f_{1}(x)=2, f_{2}(x)=x, f_{3}(x)=x^{2}, f_{4}(x)=(x+1)^{2} = x^{2} + 2x +1 .$$"
   ]
  },
  {
   "cell_type": "markdown",
   "metadata": {},
   "source": [
    "- выражаем один из векторов через комбинацию других => линейная зависимость векторов\n",
    "$$f_{4}(x) - f_{3}(x) = (x^{2} + 2x +1) - x^{2} = 2x+1$$\n",
    "$$2f_{2}(x) = 2x = 2x+1 - 1, \\frac{1}{2}f_{1}(x) =1  $$\n",
    "$$ 2f_{2}(x) = f_{4}(x) - f_{3}(x) - \\frac{1}{2}f_{1}(x)$$\n",
    "$$ f_{2}(x) = \\frac{1}{2}f_{4}(x) - \\frac{1}{2}f_{3}(x) - \\frac{1}{4}f_{1}(x)$$"
   ]
  },
  {
   "cell_type": "markdown",
   "metadata": {},
   "source": [
    "- приравниваем линейную комбинацию к нулевому вектору\n",
    "\n",
    "$$ a(x^{2} + 2x +1) + bx + cx^{2} + 2 = 0$$\n",
    "$$ x^{2}(a+b) + x(2a-c) + (a -2d) = 0$$"
   ]
  },
  {
   "cell_type": "markdown",
   "metadata": {},
   "source": [
    "$$\\begin{cases}\n",
    " a+b=0,\\\\\n",
    " 2a-c=0,\\\\\n",
    " a - 2d=0,\n",
    "\\end{cases}$$\n",
    "откуда следует, что $c = 2a = -2b = 4d $ и может быть не равно нулю. Таким образом, векторы линейно зависимы."
   ]
  },
  {
   "cell_type": "markdown",
   "metadata": {
    "colab_type": "text",
    "id": "DFrjdtbHkVqS"
   },
   "source": [
    "__3.__ Найти координаты вектора $x = (2, 3, 5)\\in \\mathbb{R}^{3}$ в базисе $b_{1}=(0, 0, 10)$, $b_{2}=(2, 0, 0)$, $b_{3}=(0, 1, 0)$."
   ]
  },
  {
   "cell_type": "markdown",
   "metadata": {},
   "source": [
    "$$x = \\frac{1}{2}b_1 + b_2 + 3b_3 $$\n",
    "координаты вектора х в базисе b1, b2, b3 $ x(\\frac{1}{2}, 1, 3)$"
   ]
  },
  {
   "cell_type": "markdown",
   "metadata": {
    "colab_type": "text",
    "id": "5la-eVLukVqT"
   },
   "source": [
    "__4.__ Найти координаты вектора $3x^{2}-2x+2\\in\\mathbb{R}^{3}[x]$:\n",
    "\n",
    "   а) в базисе $1$, $x$, $x^{2}$\n",
    "\n"
   ]
  },
  {
   "cell_type": "markdown",
   "metadata": {},
   "source": [
    "в базисе $1$, $x$, $x^{2}$координаты $ (2,-2,3) = 3x^2 -2x +2 $\n"
   ]
  },
  {
   "cell_type": "markdown",
   "metadata": {},
   "source": [
    "   б) в базисе $x^{2}$, $x-1$, $1$ ."
   ]
  },
  {
   "cell_type": "markdown",
   "metadata": {},
   "source": [
    "$ a(x^2) + b(x-1) +c = ax^2 + bx +c -b$ => $ a = 3, b = -2, c-b = 2 $ => $ c = 0 $"
   ]
  },
  {
   "cell_type": "markdown",
   "metadata": {},
   "source": [
    "в базисе  $x^{2}$, $x-1$, $1$ координаты $ (2,-2,3) = 3x^2 -2x $"
   ]
  },
  {
   "cell_type": "markdown",
   "metadata": {
    "colab_type": "text",
    "id": "kQlell_GkVqU"
   },
   "source": [
    "__5.__ Установить, является ли линейным подпространством:\n",
    "\n",
    "а) совокупность всех векторов трехмерного пространства, у которых по крайней мере одна из первых двух координат равна нулю;   \n"
   ]
  },
  {
   "cell_type": "markdown",
   "metadata": {},
   "source": [
    "$$ a = (x, 0, z) | (0,y,z)|(0,0,z) $$\n",
    "- проверка на соответствие условию: сумма двух элементов дает третий элемент, который также принадлежит подпространству"
   ]
  },
  {
   "cell_type": "markdown",
   "metadata": {},
   "source": [
    "$a_1 + a_2 = (x_1, y_2, z_1+z_2) | (0, y_1+y_2, z_1+z_2) ...$\n",
    "=> первый вариант результирующего элемента не принадлежит тому же подмножеству - совокупность таких векторов не является линейным подпространством"
   ]
  },
  {
   "cell_type": "markdown",
   "metadata": {},
   "source": [
    "б) все векторы, являющиеся линейными комбинациями данных векторов $\\{u_{1}, u_{2}, ..., u_{n}\\}$."
   ]
  },
  {
   "cell_type": "markdown",
   "metadata": {},
   "source": []
  }
 ],
 "metadata": {
  "colab": {
   "collapsed_sections": [],
   "name": "Lesson_1-REVISED.ipynb",
   "provenance": []
  },
  "kernelspec": {
   "display_name": "Python 3",
   "language": "python",
   "name": "python3"
  },
  "language_info": {
   "codemirror_mode": {
    "name": "ipython",
    "version": 3
   },
   "file_extension": ".py",
   "mimetype": "text/x-python",
   "name": "python",
   "nbconvert_exporter": "python",
   "pygments_lexer": "ipython3",
   "version": "3.7.1"
  }
 },
 "nbformat": 4,
 "nbformat_minor": 1
}
